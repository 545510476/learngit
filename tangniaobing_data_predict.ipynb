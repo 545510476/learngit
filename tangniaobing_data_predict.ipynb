{
 "cells": [
  {
   "cell_type": "code",
   "execution_count": null,
   "metadata": {
    "collapsed": true
   },
   "outputs": [],
   "source": [
    "train = pd.read_csv('C:/Users/zhuxx/PycharmProjects/tianchi_yiliao/data/d_train_20180102.csv',encoding='gbk')\n",
    "test = pd.read_csv('C:/Users/zhuxx/PycharmProjects/tianchi_yiliao/data/d_test_A_20180102.csv',encoding='gbk')\n"
   ]
  }
 ],
 "metadata": {
  "kernelspec": {
   "display_name": "Python 3",
   "language": "python",
   "name": "python3"
  },
  "language_info": {
   "codemirror_mode": {
    "name": "ipython",
    "version": 3
   },
   "file_extension": ".py",
   "mimetype": "text/x-python",
   "name": "python",
   "nbconvert_exporter": "python",
   "pygments_lexer": "ipython3",
   "version": "3.6.1"
  }
 },
 "nbformat": 4,
 "nbformat_minor": 2
}
