{
 "cells": [
  {
   "cell_type": "code",
   "execution_count": 1,
   "metadata": {},
   "outputs": [
    {
     "name": "stdout",
     "output_type": "stream",
     "text": [
      "Training Score:0.975048\n",
      "Testing Score:0.959262\n"
     ]
    },
    {
     "name": "stderr",
     "output_type": "stream",
     "text": [
      "C:\\Users\\zhuxx\\Anaconda3\\lib\\site-packages\\sklearn\\cross_validation.py:41: DeprecationWarning: This module was deprecated in version 0.18 in favor of the model_selection module into which all the refactored classes and functions are moved. Also note that the interface of the new CV iterators are different from that of this module. This module will be removed in 0.20.\n",
      "  \"This module will be removed in 0.20.\", DeprecationWarning)\n"
     ]
    }
   ],
   "source": [
    "import numpy as np\n",
    "import matplotlib.pyplot as plt\n",
    "from sklearn import neighbors, cross_validation\n",
    "\n",
    "def create_regression_data(n):\n",
    "    '''\n",
    "    创建回归模型使用的数据集\n",
    "\n",
    "    :param n: 数据集大小\n",
    "    :return: 一个元组，依次为：训练样本集、测试样本集、训练样本的值、测试样本的值\n",
    "    '''\n",
    "    X =5 * np.random.rand(n, 1)\n",
    "    y = np.sin(X).ravel()\n",
    "    y[::5] += 1 * (0.5 - np.random.rand(int(n/5))) # 每隔 5 个样本就在样本的值上添加噪音\n",
    "    return cross_validation.train_test_split(X, y,test_size=0.25,random_state=0)# 进行简单拆分，测试集大小占 1/4\n",
    "\n",
    "def test_KNeighborsRegressor(*data):\n",
    "    '''\n",
    "    测试 KNeighborsRegressor 的用法\n",
    "\n",
    "    :param data: 可变参数。它是一个元组，这里要求其元素依次为：训练样本集、测试样本集、训练样本的值、测试样本的值\n",
    "    :return: None\n",
    "    '''\n",
    "    X_train,X_test,y_train,y_test=data\n",
    "    regr=neighbors.KNeighborsRegressor()\n",
    "    regr.fit(X_train,y_train)\n",
    "    print(\"Training Score:%f\"%regr.score(X_train,y_train))\n",
    "    print(\"Testing Score:%f\"%regr.score(X_test,y_test))\n",
    "def test_KNeighborsRegressor_k_w(*data):\n",
    "    '''\n",
    "    测试 KNeighborsRegressor 中 n_neighbors 和 weights 参数的影响\n",
    "\n",
    "    :param data: 可变参数。它是一个元组，这里要求其元素依次为：训练样本集、测试样本集、训练样本的值、测试样本的值\n",
    "    :return: None\n",
    "    '''\n",
    "    X_train,X_test,y_train,y_test=data\n",
    "    Ks=np.linspace(1,y_train.size,num=100,endpoint=False,dtype='int')\n",
    "    weights=['uniform','distance']\n",
    "\n",
    "    fig=plt.figure()\n",
    "    ax=fig.add_subplot(1,1,1)\n",
    "    ### 绘制不同 weights 下， 预测得分随 n_neighbors 的曲线\n",
    "    for weight in weights:\n",
    "        training_scores=[]\n",
    "        testing_scores=[]\n",
    "        for K in Ks:\n",
    "            regr=neighbors.KNeighborsRegressor(weights=weight,n_neighbors=K)\n",
    "            regr.fit(X_train,y_train)\n",
    "            testing_scores.append(regr.score(X_test,y_test))\n",
    "            training_scores.append(regr.score(X_train,y_train))\n",
    "        ax.plot(Ks,testing_scores,label=\"testing score:weight=%s\"%weight)\n",
    "        ax.plot(Ks,training_scores,label=\"training score:weight=%s\"%weight)\n",
    "    ax.legend(loc='best')\n",
    "    ax.set_xlabel(\"K\")\n",
    "    ax.set_ylabel(\"score\")\n",
    "    ax.set_ylim(0,1.05)\n",
    "    ax.set_title(\"KNeighborsRegressor\")\n",
    "    plt.show()\n",
    "def test_KNeighborsRegressor_k_p(*data):\n",
    "    '''\n",
    "    测试 KNeighborsRegressor 中 n_neighbors 和 p 参数的影响\n",
    "\n",
    "    :param data: 可变参数。它是一个元组，这里要求其元素依次为：训练样本集、测试样本集、训练样本的值、测试样本的值\n",
    "    :return: None\n",
    "    '''\n",
    "    X_train,X_test,y_train,y_test=data\n",
    "    Ks=np.linspace(1,y_train.size,endpoint=False,dtype='int')\n",
    "    Ps=[1,2,10]\n",
    "\n",
    "    fig=plt.figure()\n",
    "    ax=fig.add_subplot(1,1,1)\n",
    "    ### 绘制不同 p 下， 预测得分随 n_neighbors 的曲线\n",
    "    for P in Ps:\n",
    "        training_scores=[]\n",
    "        testing_scores=[]\n",
    "        for K in Ks:\n",
    "            regr=neighbors.KNeighborsRegressor(p=P,n_neighbors=K)\n",
    "            regr.fit(X_train,y_train)\n",
    "            testing_scores.append(regr.score(X_test,y_test))\n",
    "            training_scores.append(regr.score(X_train,y_train))\n",
    "        ax.plot(Ks,testing_scores,label=\"testing score:p=%d\"%P)\n",
    "        ax.plot(Ks,training_scores,label=\"training score:p=%d\"%P)\n",
    "    ax.legend(loc='best')\n",
    "    ax.set_xlabel(\"K\")\n",
    "    ax.set_ylabel(\"score\")\n",
    "    ax.set_ylim(0,1.05)\n",
    "    ax.set_title(\"KNeighborsRegressor\")\n",
    "    plt.show()\n",
    "\n",
    "if __name__=='__main__':\n",
    "    X_train,X_test,y_train,y_test=create_regression_data(1000)# 获取回归模型的数据集\n",
    "    test_KNeighborsRegressor(X_train,X_test,y_train,y_test)# 调用 test_KNeighborsRegressor\n",
    "    #test_KNeighborsRegressor_k_w(X_train,X_test,y_train,y_test)# 调用 test_KNeighborsRegressor_k_w\n",
    "    #test_KNeighborsRegressor_k_p(X_train,X_test,y_train,y_test)# 调用 test_KNeighborsRegressor_k_p"
   ]
  },
  {
   "cell_type": "code",
   "execution_count": null,
   "metadata": {
    "collapsed": true
   },
   "outputs": [],
   "source": []
  }
 ],
 "metadata": {
  "kernelspec": {
   "display_name": "Python 3",
   "language": "python",
   "name": "python3"
  },
  "language_info": {
   "codemirror_mode": {
    "name": "ipython",
    "version": 3
   },
   "file_extension": ".py",
   "mimetype": "text/x-python",
   "name": "python",
   "nbconvert_exporter": "python",
   "pygments_lexer": "ipython3",
   "version": "3.6.1"
  }
 },
 "nbformat": 4,
 "nbformat_minor": 2
}
