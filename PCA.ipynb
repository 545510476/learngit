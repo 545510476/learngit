{
 "cells": [
  {
   "cell_type": "code",
   "execution_count": 1,
   "metadata": {},
   "outputs": [
    {
     "name": "stdout",
     "output_type": "stream",
     "text": [
      "explained variance ratio : [ 0.92461621  0.05301557  0.01718514  0.00518309]\n"
     ]
    },
    {
     "data": {
      "image/png": "[encoded data removed]",
      "text/plain": [
       "<matplotlib.figure.Figure at 0x1fefdad80b8>"
      ]
     },
     "metadata": {},
     "output_type": "display_data"
    }
   ],
   "source": [
    "import numpy as np\n",
    "import matplotlib.pyplot as plt\n",
    "from sklearn import   datasets,decomposition\n",
    "\n",
    "def load_data():\n",
    "    '''\n",
    "    加载用于降维的数据\n",
    "\n",
    "    :return: 一个元组，依次为训练样本集和样本集的标记\n",
    "    '''\n",
    "    iris=datasets.load_iris()# 使用 scikit-learn 自带的 iris 数据集\n",
    "    return  iris.data,iris.target\n",
    "\n",
    "def test_PCA(*data):\n",
    "    '''\n",
    "    测试 PCA 的用法\n",
    "\n",
    "    :param data:  可变参数。它是一个元组，这里要求其元素依次为：训练样本集、训练样本的标记\n",
    "    :return: None\n",
    "    '''\n",
    "    X,y=data\n",
    "    pca=decomposition.PCA(n_components=None) # 使用默认的 n_components\n",
    "    pca.fit(X)\n",
    "    print('explained variance ratio : %s'% str(pca.explained_variance_ratio_))\n",
    "def plot_PCA(*data):\n",
    "    '''\n",
    "    绘制经过 PCA 降维到二维之后的样本点\n",
    "\n",
    "    :param data: 可变参数。它是一个元组，这里要求其元素依次为：训练样本集、训练样本的标记\n",
    "    :return: None\n",
    "    '''\n",
    "    X,y=data\n",
    "    pca=decomposition.PCA(n_components=2) # 目标维度为2维\n",
    "    pca.fit(X)\n",
    "    X_r=pca.transform(X) # 原始数据集转换到二维\n",
    "    ###### 绘制二维数据 ########\n",
    "    fig=plt.figure()\n",
    "    ax=fig.add_subplot(1,1,1)\n",
    "    colors=((1,0,0),(0,1,0),(0,0,1),(0.5,0.5,0),(0,0.5,0.5),(0.5,0,0.5),\n",
    "        (0.4,0.6,0),(0.6,0.4,0),(0,0.6,0.4),(0.5,0.3,0.2),) # 颜色集合，不同标记的样本染不同的颜色\n",
    "    for label ,color in zip( np.unique(y),colors):\n",
    "        position=y==label\n",
    "        ax.scatter(X_r[position,0],X_r[position,1],label=\"target= %d\"%label,color=color)\n",
    "\n",
    "    ax.set_xlabel(\"X[0]\")\n",
    "    ax.set_ylabel(\"Y[0]\")\n",
    "    ax.legend(loc=\"best\")\n",
    "    ax.set_title(\"PCA\")\n",
    "    plt.show()\n",
    "if __name__=='__main__':\n",
    "    X,y=load_data() # 产生用于降维的数据集\n",
    "    test_PCA(X,y)   # 调用 test_PCA\n",
    "    plot_PCA(X,y)   # 调用 plot_PCA\n"
   ]
  },
  {
   "cell_type": "code",
   "execution_count": null,
   "metadata": {
    "collapsed": true
   },
   "outputs": [],
   "source": []
  }
 ],
 "metadata": {
  "kernelspec": {
   "display_name": "Python 3",
   "language": "python",
   "name": "python3"
  },
  "language_info": {
   "codemirror_mode": {
    "name": "ipython",
    "version": 3
   },
   "file_extension": ".py",
   "mimetype": "text/x-python",
   "name": "python",
   "nbconvert_exporter": "python",
   "pygments_lexer": "ipython3",
   "version": "3.6.1"
  }
 },
 "nbformat": 4,
 "nbformat_minor": 2
}
