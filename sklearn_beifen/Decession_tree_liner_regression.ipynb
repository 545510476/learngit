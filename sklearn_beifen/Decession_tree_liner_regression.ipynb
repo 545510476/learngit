{
 "cells": [
  {
   "cell_type": "code",
   "execution_count": 1,
   "metadata": {},
   "outputs": [
    {
     "name": "stderr",
     "output_type": "stream",
     "text": [
      "C:\\Users\\zhuxx\\Anaconda3\\lib\\site-packages\\sklearn\\cross_validation.py:41: DeprecationWarning: This module was deprecated in version 0.18 in favor of the model_selection module into which all the refactored classes and functions are moved. Also note that the interface of the new CV iterators are different from that of this module. This module will be removed in 0.20.\n",
      "  \"This module will be removed in 0.20.\", DeprecationWarning)\n"
     ]
    }
   ],
   "source": [
    "import numpy as np\n",
    "from sklearn.tree import DecisionTreeRegressor\n",
    "from sklearn import cross_validation\n",
    "import matplotlib.pyplot as plt"
   ]
  },
  {
   "cell_type": "code",
   "execution_count": 2,
   "metadata": {
    "collapsed": true
   },
   "outputs": [],
   "source": [
    "def creat_data(n):\n",
    "    '''\n",
    "    产生用于回归问题的数据集\n",
    "\n",
    "    :param n:  数据集容量\n",
    "    :return: 返回一个元组，元素依次为：训练样本集、测试样本集、训练样本集对应的值、测试样本集对应的值\n",
    "    '''\n",
    "    np.random.seed(0)\n",
    "    X = 5 * np.random.rand(n, 1)\n",
    "    y = np.sin(X).ravel()\n",
    "    noise_num=(int)(n/5)\n",
    "    y[::5] += 3 * (0.5 - np.random.rand(noise_num)) # 每第5个样本，就在该样本的值上添加噪音\n",
    "    return cross_validation.train_test_split(X, y,\n",
    "\t\ttest_size=0.25,random_state=1) # 拆分原始数据集为训练集和测试集，其中测试集大小为元素数据集大小的 1/4"
   ]
  },
  {
   "cell_type": "code",
   "execution_count": 3,
   "metadata": {
    "collapsed": true
   },
   "outputs": [],
   "source": [
    "def test_DecisionTreeRegressor(*data):\n",
    "    '''\n",
    "    测试 DecisionTreeRegressor 的用法\n",
    "\n",
    "    :param data: 可变参数。它是一个元组，这里要求其元素依次为：训练样本集、测试样本集、训练样本的值、测试样本的值\n",
    "    :return: None\n",
    "    '''\n",
    "    X_train,X_test,y_train,y_test=data\n",
    "    regr = DecisionTreeRegressor()\n",
    "    regr.fit(X_train, y_train)\n",
    "    print(\"Training score:%f\"%(regr.score(X_train,y_train)))\n",
    "    print(\"Testing score:%f\"%(regr.score(X_test,y_test)))\n",
    "    ##绘图\n",
    "    fig=plt.figure()\n",
    "    ax=fig.add_subplot(1,1,1)\n",
    "    X = np.arange(0.0, 5.0, 0.01)[:, np.newaxis]\n",
    "    Y = regr.predict(X)\n",
    "    ax.scatter(X_train, y_train, label=\"train sample\",c='g')\n",
    "    ax.scatter(X_test, y_test, label=\"test sample\",c='r')\n",
    "    ax.plot(X, Y, label=\"predict_value\", linewidth=2,alpha=0.5)\n",
    "    ax.set_xlabel(\"data\")\n",
    "    ax.set_ylabel(\"target\")\n",
    "    ax.set_title(\"Decision Tree Regression\")\n",
    "    ax.legend(framealpha=0.5)\n",
    "    plt.show()"
   ]
  },
  {
   "cell_type": "code",
   "execution_count": 4,
   "metadata": {
    "collapsed": true
   },
   "outputs": [],
   "source": [
    "def test_DecisionTreeRegressor_splitter(*data):\n",
    "    '''\n",
    "    测试 DecisionTreeRegressor 预测性能随划分类型的影响\n",
    "\n",
    "    :param data: 可变参数。它是一个元组，这里要求其元素依次为：训练样本集、测试样本集、训练样本的值、测试样本的值\n",
    "    :return: None\n",
    "    '''\n",
    "    X_train,X_test,y_train,y_test=data\n",
    "    splitters=['best','random']\n",
    "    for splitter in splitters:\n",
    "        regr = DecisionTreeRegressor(splitter=splitter)\n",
    "        regr.fit(X_train, y_train)\n",
    "        print(\"Splitter %s\"%splitter)\n",
    "        print(\"Training score:%f\"%(regr.score(X_train,y_train)))\n",
    "        print(\"Testing score:%f\"%(regr.score(X_test,y_test)))"
   ]
  },
  {
   "cell_type": "code",
   "execution_count": 5,
   "metadata": {},
   "outputs": [
    {
     "name": "stdout",
     "output_type": "stream",
     "text": [
      "Training score:1.000000\n",
      "Testing score:0.789107\n"
     ]
    },
    {
     "data": {
      "image/png": "[encoded data removed]",
      "text/plain": [
       "<matplotlib.figure.Figure at 0x19cac691630>"
      ]
     },
     "metadata": {},
     "output_type": "display_data"
    }
   ],
   "source": [
    "def test_DecisionTreeRegressor_depth(*data,maxdepth):\n",
    "    '''\n",
    "    测试 DecisionTreeRegressor 预测性能随  max_depth 的影响\n",
    "\n",
    "    :param data:  可变参数。它是一个元组，这里要求其元素依次为：训练样本集、测试样本集、训练样本的值、测试样本的值\n",
    "    :param maxdepth: 一个整数，它作为 DecisionTreeRegressor 的 max_depth 参数\n",
    "    :return: None\n",
    "    '''\n",
    "    X_train,X_test,y_train,y_test=data\n",
    "    depths=np.arange(1,maxdepth)\n",
    "    training_scores=[]\n",
    "    testing_scores=[]\n",
    "    for depth in depths:\n",
    "        regr = DecisionTreeRegressor(max_depth=depth)\n",
    "        regr.fit(X_train, y_train)\n",
    "        training_scores.append(regr.score(X_train,y_train))\n",
    "        testing_scores.append(regr.score(X_test,y_test))\n",
    "\n",
    "    ## 绘图\n",
    "    fig=plt.figure()\n",
    "    ax=fig.add_subplot(1,1,1)\n",
    "    ax.plot(depths,training_scores,label=\"traing score\")\n",
    "    ax.plot(depths,testing_scores,label=\"testing score\")\n",
    "    ax.set_xlabel(\"maxdepth\")\n",
    "    ax.set_ylabel(\"score\")\n",
    "    ax.set_title(\"Decision Tree Regression\")\n",
    "    ax.legend(framealpha=0.5)\n",
    "    plt.show()\n",
    "if __name__=='__main__':\n",
    "    X_train,X_test,y_train,y_test=creat_data(100) # 产生用于回归问题的数据集\n",
    "    test_DecisionTreeRegressor(X_train,X_test,y_train,y_test) # 调用 test_DecisionTreeRegressor\n",
    "    # test_DecisionTreeRegressor_splitter(X_train,X_test,y_train,y_test) # 调用 test_DecisionTreeRegressor_splitter\n",
    "    # test_DecisionTreeRegressor_depth(X_train,X_test,y_train,y_test,maxdepth=20) # 调用 test_DecisionTreeRegressor_depth"
   ]
  },
  {
   "cell_type": "code",
   "execution_count": null,
   "metadata": {
    "collapsed": true
   },
   "outputs": [],
   "source": []
  }
 ],
 "metadata": {
  "kernelspec": {
   "display_name": "Python 3",
   "language": "python",
   "name": "python3"
  },
  "language_info": {
   "codemirror_mode": {
    "name": "ipython",
    "version": 3
   },
   "file_extension": ".py",
   "mimetype": "text/x-python",
   "name": "python",
   "nbconvert_exporter": "python",
   "pygments_lexer": "ipython3",
   "version": "3.6.1"
  }
 },
 "nbformat": 4,
 "nbformat_minor": 2
}
