{
 "cells": [
  {
   "cell_type": "code",
   "execution_count": 2,
   "metadata": {},
   "outputs": [
    {
     "name": "stdout",
     "output_type": "stream",
     "text": [
      "Coefficients:[  21.19927911  -60.47711393  302.87575204  179.41206395    8.90911449\n",
      "  -28.8080548  -149.30722541  112.67185758  250.53760873   99.57749017], intercept 152.45\n",
      "Residual sum of squares: 3192.33\n",
      "Score: 0.36\n"
     ]
    },
    {
     "data": {
      "image/png": "[encoded data removed]",
      "text/plain": [
       "<matplotlib.figure.Figure at 0x25be283a4e0>"
      ]
     },
     "metadata": {},
     "output_type": "display_data"
    }
   ],
   "source": [
    "import matplotlib.pyplot as plt\n",
    "import numpy as np\n",
    "from sklearn import datasets, linear_model,cross_validation\n",
    "\n",
    "def load_data():\n",
    "    '''\n",
    "    加载用于回归问题的数据集\n",
    "\n",
    "    :return: 一个元组，用于回归问题。元组元素依次为：训练样本集、测试样本集、训练样本集对应的值、测试样本集对应的值\n",
    "    '''\n",
    "    diabetes = datasets.load_diabetes()#使用 scikit-learn 自带的一个糖尿病病人的数据集\n",
    "    return cross_validation.train_test_split(diabetes.data,diabetes.target,\n",
    "\t\ttest_size=0.25,random_state=0) # 拆分成训练集和测试集，测试集大小为原始数据集大小的 1/4\n",
    "\n",
    "def test_Ridge(*data):\n",
    "    '''\n",
    "    测试 Ridge 的用法\n",
    "\n",
    "    :param data: 可变参数。它是一个元组，这里要求其元素依次为：训练样本集、测试样本集、训练样本的值、测试样本的值\n",
    "    :return: None\n",
    "    '''\n",
    "    X_train,X_test,y_train,y_test=data\n",
    "    regr = linear_model.Ridge()\n",
    "    regr.fit(X_train, y_train)\n",
    "    print('Coefficients:%s, intercept %.2f'%(regr.coef_,regr.intercept_))\n",
    "    print(\"Residual sum of squares: %.2f\"% np.mean((regr.predict(X_test) - y_test) ** 2))\n",
    "    print('Score: %.2f' % regr.score(X_test, y_test))\n",
    "def test_Ridge_alpha(*data):\n",
    "    '''\n",
    "    测试 Ridge 的预测性能随 alpha 参数的影响\n",
    "\n",
    "    :param data: 可变参数。它是一个元组，这里要求其元素依次为：训练样本集、测试样本集、训练样本的值、测试样本的值\n",
    "    :return: None\n",
    "    '''\n",
    "    X_train,X_test,y_train,y_test=data\n",
    "    alphas=[0.01,0.02,0.05,0.1,0.2,0.5,1,2,5,10,20,50,100,200,500,1000]\n",
    "    scores=[]\n",
    "    for i,alpha in enumerate(alphas):\n",
    "        regr = linear_model.Ridge(alpha=alpha)\n",
    "        regr.fit(X_train, y_train)\n",
    "        scores.append(regr.score(X_test, y_test))\n",
    "    ## 绘图\n",
    "    fig=plt.figure()\n",
    "    ax=fig.add_subplot(1,1,1)\n",
    "    ax.plot(alphas,scores)\n",
    "    ax.set_xlabel(r\"$\\alpha$\")\n",
    "    ax.set_ylabel(r\"score\")\n",
    "    ax.set_xscale('log')\n",
    "    ax.set_title(\"Ridge\")\n",
    "    plt.show()\n",
    "if __name__=='__main__':\n",
    "    X_train,X_test,y_train,y_test=load_data() # 产生用于回归问题的数据集\n",
    "    test_Ridge(X_train,X_test,y_train,y_test) # 调用 test_Ridge\n",
    "    test_Ridge_alpha(X_train,X_test,y_train,y_test) # 调用 test_Ridge_alpha"
   ]
  },
  {
   "cell_type": "code",
   "execution_count": null,
   "metadata": {
    "collapsed": true
   },
   "outputs": [],
   "source": []
  }
 ],
 "metadata": {
  "kernelspec": {
   "display_name": "Python 3",
   "language": "python",
   "name": "python3"
  },
  "language_info": {
   "codemirror_mode": {
    "name": "ipython",
    "version": 3
   },
   "file_extension": ".py",
   "mimetype": "text/x-python",
   "name": "python",
   "nbconvert_exporter": "python",
   "pygments_lexer": "ipython3",
   "version": "3.6.1"
  }
 },
 "nbformat": 4,
 "nbformat_minor": 2
}
