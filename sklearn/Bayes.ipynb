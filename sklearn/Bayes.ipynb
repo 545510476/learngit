{
 "cells": [
  {
   "cell_type": "code",
   "execution_count": 7,
   "metadata": {},
   "outputs": [],
   "source": [
    "from sklearn import datasets,cross_validation,naive_bayes\n",
    "import  matplotlib.pyplot as plt\n",
    "from sklearn import naive_bayes\n",
    "import  numpy as np\n",
    "def test_GaussianNB(*data):\n",
    "    '''\n",
    "    测试 GaussianNB 的用法\n",
    "\n",
    "    :param data: 可变参数。它是一个元组，这里要求其元素依次为：训练样本集、测试样本集、训练样本的标记、测试样本的标记\n",
    "    :return: None\n",
    "    '''\n",
    "    X_train,X_test,y_train,y_test=data\n",
    "    cls=naive_bayes.GaussianNB()\n",
    "    cls.fit(X_train,y_train)\n",
    "    print('Training Score: %.2f' % cls.score(X_train,y_train))\n",
    "    print('Testing Score: %.2f' % cls.score(X_test, y_test))\n",
    "def load_data():\n",
    "    '''\n",
    "    加载用于分类问题的数据集。这里使用 scikit-learn 自带的 digits 数据集\n",
    "\n",
    "    :return: 一个元组，用于分类问题。元组元素依次为：训练样本集、测试样本集、训练样本集对应的标记、测试样本集对应的标记\n",
    "    '''\n",
    "    digits=datasets.load_digits() # 加载 scikit-learn 自带的 digits 数据集\n",
    "    return cross_validation.train_test_split(digits.data,digits.target,\n",
    "\t\ttest_size=0.25,random_state=0,stratify=digits.target) #分层采样拆分成训练集和测试集，测试集大小为原始数据集大小的 1/4\n",
    "\n",
    "\n"
   ]
  },
  {
   "cell_type": "code",
   "execution_count": 8,
   "metadata": {
    "collapsed": true
   },
   "outputs": [],
   "source": [
    "def test_MultinomialNB(*data):\n",
    "    '''\n",
    "    测试 MultinomialNB 的用法\n",
    "\n",
    "    :param data: 可变参数。它是一个元组，这里要求其元素依次为：训练样本集、测试样本集、训练样本的标记、测试样本的标记\n",
    "    :return: None\n",
    "    '''\n",
    "    X_train,X_test,y_train,y_test=data\n",
    "    cls=naive_bayes.MultinomialNB()\n",
    "    cls.fit(X_train,y_train)\n",
    "    print('Training Score: %.2f' % cls.score(X_train,y_train))\n",
    "    print('Testing Score: %.2f' % cls.score(X_test, y_test))\n",
    "def test_MultinomialNB_alpha(*data):\n",
    "    '''\n",
    "    测试 MultinomialNB 的预测性能随 alpha 参数的影响\n",
    "\n",
    "    :param data: 可变参数。它是一个元组，这里要求其元素依次为：训练样本集、测试样本集、训练样本的标记、测试样本的标记\n",
    "    :return: None\n",
    "    '''\n",
    "    X_train,X_test,y_train,y_test=data\n",
    "    alphas=np.logspace(-2,5,num=200)\n",
    "    train_scores=[]\n",
    "    test_scores=[]\n",
    "    for alpha in alphas:\n",
    "        cls=naive_bayes.MultinomialNB(alpha=alpha)\n",
    "        cls.fit(X_train,y_train)\n",
    "        train_scores.append(cls.score(X_train,y_train))\n",
    "        test_scores.append(cls.score(X_test, y_test))\n",
    "\n",
    "    ## 绘图\n",
    "    fig=plt.figure()\n",
    "    ax=fig.add_subplot(1,1,1)\n",
    "    ax.plot(alphas,train_scores,label=\"Training Score\")\n",
    "    ax.plot(alphas,test_scores,label=\"Testing Score\")\n",
    "    ax.set_xlabel(r\"$\\alpha$\")\n",
    "    ax.set_ylabel(\"score\")\n",
    "    ax.set_ylim(0,1.0)\n",
    "    ax.set_title(\"MultinomialNB\")\n",
    "    ax.set_xscale(\"log\")\n",
    "    plt.show()"
   ]
  },
  {
   "cell_type": "code",
   "execution_count": 9,
   "metadata": {
    "collapsed": true
   },
   "outputs": [],
   "source": [
    "def test_BernoulliNB(*data):\n",
    "    '''\n",
    "    测试 BernoulliNB 的用法\n",
    "\n",
    "    :param data: 可变参数。它是一个元组，这里要求其元素依次为：训练样本集、测试样本集、训练样本的标记、测试样本的标记\n",
    "    :return: None\n",
    "    '''\n",
    "    X_train,X_test,y_train,y_test=data\n",
    "    cls=naive_bayes.BernoulliNB()\n",
    "    cls.fit(X_train,y_train)\n",
    "    print('Training Score: %.2f' % cls.score(X_train,y_train))\n",
    "    print('Testing Score: %.2f' % cls.score(X_test, y_test))\n",
    "def test_BernoulliNB_alpha(*data):\n",
    "    '''\n",
    "    测试 BernoulliNB 的预测性能随 alpha 参数的影响\n",
    "\n",
    "    :param data: 可变参数。它是一个元组，这里要求其元素依次为：训练样本集、测试样本集、训练样本的标记、测试样本的标记\n",
    "    :return: None\n",
    "    '''\n",
    "    X_train,X_test,y_train,y_test=data\n",
    "    alphas=np.logspace(-2,5,num=200)\n",
    "    train_scores=[]\n",
    "    test_scores=[]\n",
    "    for alpha in alphas:\n",
    "        cls=naive_bayes.BernoulliNB(alpha=alpha)\n",
    "        cls.fit(X_train,y_train)\n",
    "        train_scores.append(cls.score(X_train,y_train))\n",
    "        test_scores.append(cls.score(X_test, y_test))\n",
    "\n",
    "    ## 绘图\n",
    "    fig=plt.figure()\n",
    "    ax=fig.add_subplot(1,1,1)\n",
    "    ax.plot(alphas,train_scores,label=\"Training Score\")\n",
    "    ax.plot(alphas,test_scores,label=\"Testing Score\")\n",
    "    ax.set_xlabel(r\"$\\alpha$\")\n",
    "    ax.set_ylabel(\"score\")\n",
    "    ax.set_ylim(0,1.0)\n",
    "    ax.set_title(\"BernoulliNB\")\n",
    "    ax.set_xscale(\"log\")\n",
    "    ax.legend(loc=\"best\")\n",
    "    plt.show()\n",
    "def test_BernoulliNB_binarize(*data):\n",
    "    '''\n",
    "    测试 BernoulliNB 的预测性能随 binarize 参数的影响\n",
    "\n",
    "    :param data: 可变参数。它是一个元组，这里要求其元素依次为：训练样本集、测试样本集、训练样本的标记、测试样本的标记\n",
    "    :return: None\n",
    "    '''\n",
    "    X_train,X_test,y_train,y_test=data\n",
    "    min_x=min(np.min(X_train.ravel()),np.min(X_test.ravel()))-0.1\n",
    "    max_x=max(np.max(X_train.ravel()),np.max(X_test.ravel()))+0.1\n",
    "    binarizes=np.linspace(min_x,max_x,endpoint=True,num=100)\n",
    "    train_scores=[]\n",
    "    test_scores=[]\n",
    "    for binarize in binarizes:\n",
    "        cls=naive_bayes.BernoulliNB(binarize=binarize)\n",
    "        cls.fit(X_train,y_train)\n",
    "        train_scores.append(cls.score(X_train,y_train))\n",
    "        test_scores.append(cls.score(X_test, y_test))\n",
    "\n",
    "    ## 绘图\n",
    "    fig=plt.figure()\n",
    "    ax=fig.add_subplot(1,1,1)\n",
    "    ax.plot(binarizes,train_scores,label=\"Training Score\")\n",
    "    ax.plot(binarizes,test_scores,label=\"Testing Score\")\n",
    "    ax.set_xlabel(\"binarize\")\n",
    "    ax.set_ylabel(\"score\")\n",
    "    ax.set_ylim(0,1.0)\n",
    "    ax.set_xlim(min_x-1,max_x+1)\n",
    "    ax.set_title(\"BernoulliNB\")\n",
    "    ax.legend(loc=\"best\")\n",
    "    plt.show()\n"
   ]
  },
  {
   "cell_type": "code",
   "execution_count": 14,
   "metadata": {
    "scrolled": true
   },
   "outputs": [
    {
     "name": "stdout",
     "output_type": "stream",
     "text": [
      "Training Score: 0.85\n",
      "Testing Score: 0.84\n",
      "Training Score: 0.91\n",
      "Testing Score: 0.90\n"
     ]
    },
    {
     "data": {
      "image/png": "[encoded data removed]",
      "text/plain": [
       "<matplotlib.figure.Figure at 0x15c1d6561d0>"
      ]
     },
     "metadata": {},
     "output_type": "display_data"
    },
    {
     "name": "stdout",
     "output_type": "stream",
     "text": [
      "Training Score: 0.87\n",
      "Testing Score: 0.87\n"
     ]
    },
    {
     "data": {
      "image/png": "[encoded data removed]",
      "text/plain": [
       "<matplotlib.figure.Figure at 0x15c20749400>"
      ]
     },
     "metadata": {},
     "output_type": "display_data"
    },
    {
     "data": {
      "image/png": "[encoded data removed]",
      "text/plain": [
       "<matplotlib.figure.Figure at 0x15c20108978>"
      ]
     },
     "metadata": {},
     "output_type": "display_data"
    }
   ],
   "source": [
    "\n",
    "def show_digits():\n",
    "    '''\n",
    "    绘制 digits 数据集。这里只是绘制数据集中前 25 个样本的图片。\n",
    "\n",
    "    :return: None\n",
    "    '''\n",
    "    digits=datasets.load_digits()\n",
    "    fig=plt.figure()\n",
    "    print(\"vector from images 0:\",digits.data[0])\n",
    "    for i in range(25):\n",
    "        ax=fig.add_subplot(5,5,i+1)\n",
    "        ax.imshow(digits.images[i],cmap=plt.cm.gray_r, interpolation='nearest')\n",
    "    plt.show()\n",
    "\n",
    "if __name__=='__main__':\n",
    "    X_train,X_test,y_train,y_test=load_data() # 产生用于分类问题的数据集\n",
    "    test_GaussianNB(X_train,X_test,y_train,y_test) # 调用 test_GaussianNB\n",
    "    test_MultinomialNB(X_train,X_test,y_train,y_test) # 调用 test_MultinomialNB\n",
    "    test_MultinomialNB_alpha(X_train,X_test,y_train,y_test) # 调用 test_MultinomialNB_alpha\n",
    "    test_BernoulliNB(X_train,X_test,y_train,y_test) # 调用 test_BernoulliNB\n",
    "    test_BernoulliNB_alpha(X_train,X_test,y_train,y_test) # 调用 test_BernoulliNB_alpha\n",
    "    test_BernoulliNB_binarize(X_train,X_test,y_train,y_test) # 调用 test_BernoulliNB_binarize\n"
   ]
  },
  {
   "cell_type": "code",
   "execution_count": null,
   "metadata": {
    "collapsed": true
   },
   "outputs": [],
   "source": []
  },
  {
   "cell_type": "code",
   "execution_count": null,
   "metadata": {
    "collapsed": true
   },
   "outputs": [],
   "source": []
  }
 ],
 "metadata": {
  "kernelspec": {
   "display_name": "Python 3",
   "language": "python",
   "name": "python3"
  },
  "language_info": {
   "codemirror_mode": {
    "name": "ipython",
    "version": 3
   },
   "file_extension": ".py",
   "mimetype": "text/x-python",
   "name": "python",
   "nbconvert_exporter": "python",
   "pygments_lexer": "ipython3",
   "version": "3.6.1"
  }
 },
 "nbformat": 4,
 "nbformat_minor": 2
}
