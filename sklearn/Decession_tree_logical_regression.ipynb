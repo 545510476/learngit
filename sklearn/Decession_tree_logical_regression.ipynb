{
 "cells": [
  {
   "cell_type": "code",
   "execution_count": 1,
   "metadata": {},
   "outputs": [
    {
     "name": "stdout",
     "output_type": "stream",
     "text": [
      "Training score:1.000000\n",
      "Testing score:0.973684\n"
     ]
    },
    {
     "name": "stderr",
     "output_type": "stream",
     "text": [
      "C:\\Users\\zhuxx\\Anaconda3\\lib\\site-packages\\sklearn\\cross_validation.py:41: DeprecationWarning: This module was deprecated in version 0.18 in favor of the model_selection module into which all the refactored classes and functions are moved. Also note that the interface of the new CV iterators are different from that of this module. This module will be removed in 0.20.\n",
      "  \"This module will be removed in 0.20.\", DeprecationWarning)\n"
     ]
    }
   ],
   "source": [
    "import numpy as np\n",
    "from sklearn.tree import DecisionTreeClassifier\n",
    "from sklearn import  datasets\n",
    "from sklearn import cross_validation\n",
    "import matplotlib.pyplot as plt\n",
    "def load_data():\n",
    "    '''\n",
    "    加载用于分类问题的数据集。数据集采用 scikit-learn 自带的 iris 数据集\n",
    "\n",
    "    :return: 一个元组，用于分类问题。元组元素依次为：训练样本集、测试样本集、训练样本集对应的标记、测试样本集对应的标记\n",
    "    '''\n",
    "    iris=datasets.load_iris() # scikit-learn 自带的 iris 数据集\n",
    "    X_train=iris.data\n",
    "    y_train=iris.target\n",
    "    return cross_validation.train_test_split(X_train, y_train,test_size=0.25,\n",
    "\t\trandom_state=0,stratify=y_train)# 分层采样拆分成训练集和测试集，测试集大小为原始数据集大小的 1/4\n",
    "def test_DecisionTreeClassifier(*data):\n",
    "    '''\n",
    "    测试 DecisionTreeClassifier 的用法\n",
    "\n",
    "    :param data: 可变参数。它是一个元组，这里要求其元素依次为：训练样本集、测试样本集、训练样本的标记、测试样本的标记\n",
    "    :return:  None\n",
    "    '''\n",
    "    X_train,X_test,y_train,y_test=data\n",
    "    clf = DecisionTreeClassifier()\n",
    "    clf.fit(X_train, y_train)\n",
    "\n",
    "    print(\"Training score:%f\"%(clf.score(X_train,y_train)))\n",
    "    print(\"Testing score:%f\"%(clf.score(X_test,y_test)))\n",
    "def test_DecisionTreeClassifier_criterion(*data):\n",
    "    '''\n",
    "    测试 DecisionTreeClassifier 的预测性能随 criterion 参数的影响\n",
    "\n",
    "    :param data:  可变参数。它是一个元组，这里要求其元素依次为：训练样本集、测试样本集、训练样本的标记、测试样本的标记\n",
    "    :return:  None\n",
    "    '''\n",
    "    X_train,X_test,y_train,y_test=data\n",
    "    criterions=['gini','entropy']\n",
    "    for criterion in criterions:\n",
    "        clf = DecisionTreeClassifier(criterion=criterion)\n",
    "        clf.fit(X_train, y_train)\n",
    "        print(\"criterion:%s\"%criterion)\n",
    "        print(\"Training score:%f\"%(clf.score(X_train,y_train)))\n",
    "        print(\"Testing score:%f\"%(clf.score(X_test,y_test)))\n",
    "def test_DecisionTreeClassifier_splitter(*data):\n",
    "    '''\n",
    "    测试 DecisionTreeClassifier 的预测性能随划分类型的影响\n",
    "\n",
    "    :param data: 可变参数。它是一个元组，这里要求其元素依次为：训练样本集、测试样本集、训练样本的标记、测试样本的标记\n",
    "    :return:  None\n",
    "    '''\n",
    "    X_train,X_test,y_train,y_test=data\n",
    "    splitters=['best','random']\n",
    "    for splitter in splitters:\n",
    "        clf = DecisionTreeClassifier(splitter=splitter)\n",
    "        clf.fit(X_train, y_train)\n",
    "        print(\"splitter:%s\"%splitter)\n",
    "        print(\"Training score:%f\"%(clf.score(X_train,y_train)))\n",
    "        print(\"Testing score:%f\"%(clf.score(X_test,y_test)))\n",
    "def test_DecisionTreeClassifier_depth(*data,maxdepth):\n",
    "    '''\n",
    "    测试 DecisionTreeClassifier 的预测性能随 max_depth 参数的影响\n",
    "\n",
    "    :param data:  可变参数。它是一个元组，这里要求其元素依次为：训练样本集、测试样本集、训练样本的标记、测试样本的标记\n",
    "    :param maxdepth: 一个整数，用于 DecisionTreeClassifier 的 max_depth 参数\n",
    "    :return:  None\n",
    "    '''\n",
    "    X_train,X_test,y_train,y_test=data\n",
    "    depths=np.arange(1,maxdepth)\n",
    "    training_scores=[]\n",
    "    testing_scores=[]\n",
    "    for depth in depths:\n",
    "        clf = DecisionTreeClassifier(max_depth=depth)\n",
    "        clf.fit(X_train, y_train)\n",
    "        training_scores.append(clf.score(X_train,y_train))\n",
    "        testing_scores.append(clf.score(X_test,y_test))\n",
    "\n",
    "    ## 绘图\n",
    "    fig=plt.figure()\n",
    "    ax=fig.add_subplot(1,1,1)\n",
    "    ax.plot(depths,training_scores,label=\"traing score\",marker='o')\n",
    "    ax.plot(depths,testing_scores,label=\"testing score\",marker='*')\n",
    "    ax.set_xlabel(\"maxdepth\")\n",
    "    ax.set_ylabel(\"score\")\n",
    "    ax.set_title(\"Decision Tree Classification\")\n",
    "    ax.legend(framealpha=0.5,loc='best')\n",
    "    plt.show()\n",
    "if __name__=='__main__':\n",
    "    X_train,X_test,y_train,y_test=load_data() # 产生用于分类问题的数据集\n",
    "    test_DecisionTreeClassifier(X_train,X_test,y_train,y_test) # 调用 test_DecisionTreeClassifier\n",
    "    # test_DecisionTreeClassifier_criterion(X_train,X_test,y_train,y_test) # 调用 test_DecisionTreeClassifier_criterion\n",
    "    # test_DecisionTreeClassifier_splitter(X_train,X_test,y_train,y_test) # 调用 test_DecisionTreeClassifier_splitter\n",
    "    # test_DecisionTreeClassifier_depth(X_train,X_test,y_train,y_test,maxdepth=100) # 调用 test_DecisionTreeClassifier_depth"
   ]
  },
  {
   "cell_type": "code",
   "execution_count": null,
   "metadata": {
    "collapsed": true
   },
   "outputs": [],
   "source": []
  }
 ],
 "metadata": {
  "kernelspec": {
   "display_name": "Python 3",
   "language": "python",
   "name": "python3"
  },
  "language_info": {
   "codemirror_mode": {
    "name": "ipython",
    "version": 3
   },
   "file_extension": ".py",
   "mimetype": "text/x-python",
   "name": "python",
   "nbconvert_exporter": "python",
   "pygments_lexer": "ipython3",
   "version": "3.6.1"
  }
 },
 "nbformat": 4,
 "nbformat_minor": 2
}
