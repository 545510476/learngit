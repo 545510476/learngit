{
 "cells": [
  {
   "cell_type": "code",
   "execution_count": 2,
   "metadata": {},
   "outputs": [
    {
     "name": "stdout",
     "output_type": "stream",
     "text": [
      "Variances is [  0.1875  13.6875  13.6875  13.6875]\n",
      "After transform is [[ 1  2  3]\n",
      " [ 4  5  6]\n",
      " [ 7  8  9]\n",
      " [11 12 13]]\n",
      "The surport is [1 2 3]\n",
      "After reverse transform is [[ 0  1  2  3]\n",
      " [ 0  4  5  6]\n",
      " [ 0  7  8  9]\n",
      " [ 0 11 12 13]]\n"
     ]
    }
   ],
   "source": [
    "# -*- coding: utf-8 -*-\n",
    "\"\"\"\n",
    "    数据预处理\n",
    "    ~~~~~~~~~~~~~~~~\n",
    "\n",
    "    过滤式特征选择\n",
    "\n",
    "    :copyright: (c) 2016 by the huaxz1986.\n",
    "    :license: lgpl-3.0, see LICENSE for more details.\n",
    "\"\"\"\n",
    "\n",
    "from sklearn.feature_selection import  VarianceThreshold,SelectKBest,f_classif\n",
    "\n",
    "def test_VarianceThreshold():\n",
    "    '''\n",
    "    测试 VarianceThreshold  的用法\n",
    "\n",
    "    :return:  None\n",
    "    '''\n",
    "    X=[[100,1,2,3],\n",
    "       [100,4,5,6],\n",
    "       [100,7,8,9],\n",
    "       [101,11,12,13]]\n",
    "    selector=VarianceThreshold(1)\n",
    "    selector.fit(X)\n",
    "    print(\"Variances is %s\"%selector.variances_)\n",
    "    print(\"After transform is %s\"%selector.transform(X))\n",
    "    print(\"The surport is %s\"%selector.get_support(True))\n",
    "    print(\"After reverse transform is %s\"%\n",
    "            selector.inverse_transform(selector.transform(X)))\n",
    "def test_SelectKBest():\n",
    "    '''\n",
    "    测试 SelectKBest  的用法，其中考察的特征指标是 f_classif\n",
    "\n",
    "    :return:  None\n",
    "    '''\n",
    "    X=[   [1,2,3,4,5],\n",
    "          [5,4,3,2,1],\n",
    "          [3,3,3,3,3,],\n",
    "          [1,1,1,1,1] ]\n",
    "    y=[0,1,0,1]\n",
    "    print(\"before transform:\",X)\n",
    "    selector=SelectKBest(score_func=f_classif,k=3)\n",
    "    selector.fit(X,y)\n",
    "    print(\"scores_:\",selector.scores_)\n",
    "    print(\"pvalues_:\",selector.pvalues_)\n",
    "    print(\"selected index:\",selector.get_support(True))\n",
    "    print(\"after transform:\",selector.transform(X))\n",
    "if __name__=='__main__':\n",
    "    test_VarianceThreshold() # 调用 test_VarianceThreshold\n",
    "    # test_SelectKBest() # 调用 test_SelectKBest"
   ]
  },
  {
   "cell_type": "code",
   "execution_count": null,
   "metadata": {
    "collapsed": true
   },
   "outputs": [],
   "source": []
  }
 ],
 "metadata": {
  "kernelspec": {
   "display_name": "Python 3",
   "language": "python",
   "name": "python3"
  },
  "language_info": {
   "codemirror_mode": {
    "name": "ipython",
    "version": 3
   },
   "file_extension": ".py",
   "mimetype": "text/x-python",
   "name": "python",
   "nbconvert_exporter": "python",
   "pygments_lexer": "ipython3",
   "version": "3.6.1"
  }
 },
 "nbformat": 4,
 "nbformat_minor": 2
}
